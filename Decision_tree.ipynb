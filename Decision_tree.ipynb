{
 "cells": [
  {
   "cell_type": "markdown",
   "metadata": {},
   "source": [
    "# Decision Tress "
   ]
  },
  {
   "cell_type": "markdown",
   "metadata": {},
   "source": [
    "## Entropy\n",
    "- degree of disorder or randomness in the system.\n",
    "- E = - ∑p(X) * log2(p(X))\n",
    "\n",
    "### Example\n",
    "S = [0, 0, 0, 0, 0, 1, 1, 1, 1, 1]\n",
    "\n",
    "E = -5/10 * log2(5/10) + [-5/10 * log2(5/10)] = -0.5(-1) * -0.5(-1) = 1\n",
    "\n",
    "## Information gain\n",
    "- Reduction in entropy or surprise by transforming a dataset\n",
    "- Calculated by comparing the entropy of the dataset before and after a transformation.\n",
    "- IG = E(parent) - [weighted average] * E(children)\n",
    "\n",
    "### Example\n",
    "S = [0, 0, 0, 0, 0, 1, 1, 1, 1, 1], S1 = [0,0,1,1,1,1,1], S2 = [0,0,0]\n",
    "\n",
    "IG = E(S) - [(7/10) * E(S1) + (3/10) * E(S2)]  <br/>\n",
    "IG = 1 - [7/10 * 0.863 + 3/10 * 0]  <br/>\n",
    "IG = 0.395\n"
   ]
  }
 ],
 "metadata": {
  "kernelspec": {
   "display_name": "Python 3",
   "language": "python",
   "name": "python3"
  },
  "language_info": {
   "codemirror_mode": {
    "name": "ipython",
    "version": 3
   },
   "file_extension": ".py",
   "mimetype": "text/x-python",
   "name": "python",
   "nbconvert_exporter": "python",
   "pygments_lexer": "ipython3",
   "version": "3.8.5"
  }
 },
 "nbformat": 4,
 "nbformat_minor": 4
}
